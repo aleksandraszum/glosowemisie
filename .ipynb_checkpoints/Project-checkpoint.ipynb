{
 "cells": [
  {
   "cell_type": "markdown",
   "metadata": {},
   "source": [
    "# Rozpoznawanie mowy - projekt"
   ]
  },
  {
   "cell_type": "raw",
   "metadata": {},
   "source": [
    "Przed uruchomieniem projektu sprawdź, czy masz zainstalowane wszystkie potrzebne biblioteki."
   ]
  },
  {
   "cell_type": "code",
   "execution_count": 15,
   "metadata": {},
   "outputs": [],
   "source": [
    "from scipy.io import wavfile\n",
    "from matplotlib import pyplot as plt\n",
    "import numpy as np\n",
    "import sys\n",
    "import wave\n",
    "import scipy.signal\n",
    "import os\n",
    "import librosa\n",
    "import librosa.util\n",
    "from dtw import dtw\n",
    "from numpy.linalg import norm\n",
    "import librosa.display"
   ]
  },
  {
   "cell_type": "markdown",
   "metadata": {},
   "source": [
    "### 1. Funkcja do wczytywania plików z sygnałami (load_voice_signal()). Funkcja normalizuje sygnał poprzez podzielenie sygnału przez moduł sygnału."
   ]
  },
  {
   "cell_type": "code",
   "execution_count": 16,
   "metadata": {},
   "outputs": [],
   "source": [
    "def load_voice_signal(filename):\n",
    "    samplerate, data = wavfile.read('commends/' + filename + '.wav')\n",
    "    words = data / np.amax(np.absolute(data))\n",
    "    words = words[::,0]\n",
    "    timestamps = np.array([i[0] / samplerate for i in np.ndindex(words.shape)])\n",
    "    return words, timestamps"
   ]
  },
  {
   "cell_type": "markdown",
   "metadata": {},
   "source": [
    "#### Przykład wizualizacji fali dźwiękowej"
   ]
  },
  {
   "cell_type": "code",
   "execution_count": 17,
   "metadata": {},
   "outputs": [
    {
     "data": {
      "image/png": "[encoded data removed]",
      "text/plain": [
       "<Figure size 800x400 with 1 Axes>"
      ]
     },
     "metadata": {},
     "output_type": "display_data"
    }
   ],
   "source": [
    "words, timestamps = load_voice_signal('G11')\n",
    "\n",
    "#y = words[32000:70000]\n",
    "#x = timestamps[32000:70000]\n",
    "y = words\n",
    "x = timestamps\n",
    "plt.figure(figsize=(10, 5), dpi= 80, facecolor='w', edgecolor='k')\n",
    "plt.title('Signal Wave')\n",
    "\n",
    "plt.plot(x,y)\n",
    "\n",
    "plt.show()"
   ]
  },
  {
   "cell_type": "markdown",
   "metadata": {},
   "source": [
    "### 2. Funkcja, która wyciąga cechy sygnału (extract_features())."
   ]
  },
  {
   "cell_type": "code",
   "execution_count": 18,
   "metadata": {},
   "outputs": [],
   "source": [
    "def extract_features(word):\n",
    "    my_mfcc = np.mean(librosa.feature.mfcc(y = word, sr = 44100, n_mfcc = 40).T, axis = 0)\n",
    "    my_mfcc = np.array([my_mfcc])\n",
    "    return my_mfcc"
   ]
  },
  {
   "cell_type": "markdown",
   "metadata": {},
   "source": [
    "# Ekstrakcja cech i podział na zbiór uczący i testowy w stosunku 4:1.\n",
    "### Podział przeprowadzony w sposób losowy"
   ]
  },
  {
   "cell_type": "code",
   "execution_count": 19,
   "metadata": {},
   "outputs": [],
   "source": [
    "from sklearn.model_selection import train_test_split\n",
    "\n",
    "commands = ['otwórz', 'zamknij', 'gorąco', 'zimno', 'ciemno', 'jasno', 'stop', 'rozwiń', 'zasłoń']\n",
    "\n",
    "file_ids, commands = zip(*[(person + str(cmd_idx * 5 + n_record + 1), cmd)\n",
    "                      for cmd_idx, cmd in enumerate(commands)\n",
    "                      for person in 'OJG'\n",
    "                      for n_record in range(5)])\n",
    "\n",
    "words = [load_voice_signal(file_id)[0] for file_id in file_ids]\n",
    "\n",
    "features = np.squeeze([extract_features(word) for word in words])\n",
    "\n",
    "(features_train, features_test,\n",
    "words_train, words_test,\n",
    "commands_train, commands_test) = train_test_split(features, words, commands, test_size=0.2)"
   ]
  },
  {
   "cell_type": "markdown",
   "metadata": {},
   "source": [
    "### Support Vector Classification - Wspierający wektor klasyfikacji:\n",
    "\n",
    "https://www.icsr.agh.edu.pl/~dzwinel/files/courses/C3-Classifiers.pdf\n",
    "\n"
   ]
  },
  {
   "cell_type": "markdown",
   "metadata": {},
   "source": [
    "#### Trzeba znaleźć jakiś algorytm uczenia, przykładowy algorytm: https://blog.manash.me/building-a-dead-simple-word-recognition-engine-using-convnet-in-keras-25e72c19c12b\n",
    "\n",
    "Uważam, że różnice pomiędzy tymi samymi słowami sa na tyle duże, że nie bedziemy w stanie nauczyć sieci => można zapisać to we wnioskach"
   ]
  },
  {
   "cell_type": "markdown",
   "metadata": {},
   "source": [
    "### 5. Porównanie sygnałów używając DWT\n",
    "http://cs.uccs.edu/~cs525/studentproj/projS2010/plama/doc/cs525-SpeechRecogntion.pdf\n",
    "\n",
    "http://research.cs.tamu.edu/prism/lectures/sp/l9.pdf\n",
    "\n",
    "http://web.science.mq.edu.au/~cassidy/comp449/html/ch11s02.html\n",
    "\n",
    "https://github.com/crawles/dtw/blob/master/Speech_Recognition_DTW.ipynb\n",
    "\n",
    "http://iosrjournals.org/iosr-jece/papers/NCIEST/Volume%202/3.%2012-16.pdf\n",
    "\n"
   ]
  },
  {
   "cell_type": "markdown",
   "metadata": {},
   "source": [
    "Obliczenie znormalizowanej odległości między komendami: zamknij oraz stop korzystając z metody DWT"
   ]
  },
  {
   "cell_type": "code",
   "execution_count": 22,
   "metadata": {},
   "outputs": [
    {
     "name": "stdout",
     "output_type": "stream",
     "text": [
      "Różnica odległości między komendą zamknij oraz stop 137.899387448276\n"
     ]
    },
    {
     "data": {
      "image/png": "[encoded data removed]",
      "text/plain": [
       "<Figure size 432x288 with 2 Axes>"
      ]
     },
     "metadata": {},
     "output_type": "display_data"
    }
   ],
   "source": [
    "fs = 44100 # częstotliwość próbkowania sygnału\n",
    "same_words1 = [word for word, cmd in zip(words_test, commands_test) if cmd == 'zamknij']\n",
    "same_words2 = [word for word, cmd in zip(words_test, commands_test) if cmd == 'stop']\n",
    "word_1 = librosa.feature.mfcc(same_words1[1], fs, n_mfcc = 13)\n",
    "plt.subplot(1, 2, 1)\n",
    "librosa.display.specshow(word_1)\n",
    "word_2 = librosa.feature.mfcc(same_words1[2], fs, n_mfcc = 13)\n",
    "plt.subplot(1, 2, 2)\n",
    "\n",
    "librosa.display.specshow(word_2)\n",
    "\n",
    "dist, cost, acc_cost, path = dtw(word_2.T, word_1.T, dist=lambda x, y: np.linalg.norm(x - y, ord=1))\n",
    "print('Różnica odległości między komendą zamknij oraz stop' , dist)\n"
   ]
  },
  {
   "cell_type": "code",
   "execution_count": 23,
   "metadata": {},
   "outputs": [
    {
     "data": {
      "image/png": "[encoded data removed]",
      "text/plain": [
       "<Figure size 432x288 with 1 Axes>"
      ]
     },
     "metadata": {
      "needs_background": "light"
     },
     "output_type": "display_data"
    }
   ],
   "source": [
    "plt.imshow(acc_cost.T, origin='lower', cmap='gray', interpolation='nearest')\n",
    "plt.plot(path[0], path[1], 'w')\n",
    "plt.show()"
   ]
  },
  {
   "cell_type": "markdown",
   "metadata": {},
   "source": [
    "Obliczenie znormalizowanej odległości między komendą otwórz u dwóch różnych osób:"
   ]
  },
  {
   "cell_type": "code",
   "execution_count": 34,
   "metadata": {},
   "outputs": [
    {
     "name": "stdout",
     "output_type": "stream",
     "text": [
      "Różnica odległości między komendą zamknij oraz stop 4.756999420506903\n"
     ]
    },
    {
     "data": {
      "image/png": "[encoded data removed]",
      "text/plain": [
       "<Figure size 432x288 with 2 Axes>"
      ]
     },
     "metadata": {},
     "output_type": "display_data"
    }
   ],
   "source": [
    "path1 = 'J' + str(1)        \n",
    "path2 = 'O' + str(1)\n",
    "word_1 = extract_features(load_voice_signal(path1)[0])\n",
    "word_2 = extract_features(load_voice_signal(path2)[0])\n",
    "plt.subplot(1, 2, 1)\n",
    "librosa.display.specshow(word_1)\n",
    "plt.subplot(1, 2, 2)\n",
    "librosa.display.specshow(word_2)\n",
    "\n",
    "dist, cost, acc_cost, path = dtw(word_2.T, word_1.T, dist=lambda x, y: np.linalg.norm(x - y, ord=1))\n",
    "print('Różnica odległości między otwórz u dwóch różnych osób' , dist)"
   ]
  },
  {
   "cell_type": "markdown",
   "metadata": {},
   "source": [
    "Obliczenie znormalizowanej odległości między komendą zamknij u jednej osoby:"
   ]
  },
  {
   "cell_type": "code",
   "execution_count": 46,
   "metadata": {},
   "outputs": [
    {
     "name": "stdout",
     "output_type": "stream",
     "text": [
      "Różnica odległości między otwórz u dwóch różnych osób 1.9417552141448073\n"
     ]
    },
    {
     "data": {
      "image/png": "[encoded data removed]",
      "text/plain": [
       "<Figure size 432x288 with 2 Axes>"
      ]
     },
     "metadata": {},
     "output_type": "display_data"
    }
   ],
   "source": [
    "path1 = 'J' + str(6)        \n",
    "path2 = 'J' + str(10)\n",
    "word_1 = extract_features(load_voice_signal(path1)[0])\n",
    "word_2 = extract_features(load_voice_signal(path2)[0])\n",
    "plt.subplot(1, 2, 1)\n",
    "librosa.display.specshow(word_1)\n",
    "plt.subplot(1, 2, 2)\n",
    "librosa.display.specshow(word_2)\n",
    "\n",
    "dist, cost, acc_cost, path = dtw(word_2.T, word_1.T, dist=lambda x, y: np.linalg.norm(x - y, ord=1))\n",
    "print('Różnica odległości między otwórz u tej samej osoby:' , dist)\n"
   ]
  },
  {
   "cell_type": "markdown",
   "metadata": {},
   "source": [
    "# Wnioski\n",
    "\n",
    "1. Sygnał mowy jest sygnałem ciężkim do analizy. Zależy on od barwy głosu, od stanu emocjonalnego danej osoby (czy wypowiada się będąc spokojnym czy zdenerwowanym) czy też stopnia zmęczenia. Z tego względu zbiór nagrań zawierający te samo sowo może mieć wysokie odchylenie standardowe odległości, co może spowodować błędną klasyfikację. Szczególnie, jeżeli analizowane sygnały pochodzą od wielu osób. \n",
    " \n",
    "2. Problemem podczas wykonywania projektu, była niewielka próba - posiadano zaledwie 15 nagrań tego samego słowa. Były to słowa nagrywane przez trzy osoby pięciokrotnie w różnych porach dnia i o różnym stopniu zmęczenia i nastroju osoby nagrywającej słowa. W związku z tym należałoby znormalizować sposób akwizycji sygnałów oraz stworzyć większą bazę danych. \n"
   ]
  },
  {
   "cell_type": "markdown",
   "metadata": {},
   "source": [
    "### TODO \n",
    "Ta kolorowa macierz ?"
   ]
  },
  {
   "cell_type": "code",
   "execution_count": null,
   "metadata": {},
   "outputs": [],
   "source": []
  },
  {
   "cell_type": "code",
   "execution_count": null,
   "metadata": {},
   "outputs": [],
   "source": []
  }
 ],
 "metadata": {
  "kernelspec": {
   "display_name": "Python 3",
   "language": "python",
   "name": "python3"
  },
  "language_info": {
   "codemirror_mode": {
    "name": "ipython",
    "version": 3
   },
   "file_extension": ".py",
   "mimetype": "text/x-python",
   "name": "python",
   "nbconvert_exporter": "python",
   "pygments_lexer": "ipython3",
   "version": "3.7.1"
  }
 },
 "nbformat": 4,
 "nbformat_minor": 2
}
