{
 "cells": [
  {
   "cell_type": "markdown",
   "metadata": {},
   "source": [
    "# Rozpoznawanie mowy - projekt"
   ]
  },
  {
   "cell_type": "raw",
   "metadata": {},
   "source": [
    "Przed uruchomieniem projektu sprawdź, czy masz zainstalowane wszystkie potrzebne biblioteki."
   ]
  },
  {
   "cell_type": "code",
   "execution_count": 78,
   "metadata": {},
   "outputs": [],
   "source": [
    "from scipy.io import wavfile\n",
    "from matplotlib import pyplot as plt\n",
    "import numpy as np\n",
    "import sys\n",
    "import wave\n",
    "import scipy.signal\n",
    "import os\n",
    "import librosa\n",
    "import librosa.util\n",
    "from dtw import dtw\n",
    "from numpy.linalg import norm\n",
    "import librosa.display\n",
    "from sklearn.svm import SVC\n",
    "from sklearn.metrics import accuracy_score"
   ]
  },
  {
   "cell_type": "markdown",
   "metadata": {},
   "source": [
    "### 1. Funkcja do wczytywania plików z sygnałami (load_voice_signal()). Funkcja normalizuje sygnał poprzez podzielenie sygnału przez moduł sygnału."
   ]
  },
  {
   "cell_type": "code",
   "execution_count": 79,
   "metadata": {},
   "outputs": [],
   "source": [
    "def load_voice_signal(filename):\n",
    "    samplerate, data = wavfile.read('commends/' + filename + '.wav')\n",
    "    words = data / np.amax(np.absolute(data))\n",
    "    words = words[::,0]\n",
    "    timestamps = np.array([i[0] / samplerate for i in np.ndindex(words.shape)])\n",
    "    return words, timestamps"
   ]
  },
  {
   "cell_type": "markdown",
   "metadata": {},
   "source": [
    "#### Przykład wizualizacji fali dźwiękowej"
   ]
  },
  {
   "cell_type": "code",
   "execution_count": 80,
   "metadata": {},
   "outputs": [
    {
     "data": {
      "image/png": "[encoded data removed]",
      "text/plain": [
       "<Figure size 800x400 with 1 Axes>"
      ]
     },
     "metadata": {},
     "output_type": "display_data"
    }
   ],
   "source": [
    "words, timestamps = load_voice_signal('G11')\n",
    "\n",
    "#y = words[32000:70000]\n",
    "#x = timestamps[32000:70000]\n",
    "y = words\n",
    "x = timestamps\n",
    "plt.figure(figsize=(10, 5), dpi= 80, facecolor='w', edgecolor='k')\n",
    "plt.title('Signal Wave')\n",
    "\n",
    "plt.plot(x,y)\n",
    "\n",
    "plt.show()"
   ]
  },
  {
   "cell_type": "markdown",
   "metadata": {},
   "source": [
    "### 2. Funkcja, która wyciąga cechy sygnału (extract_features())."
   ]
  },
  {
   "cell_type": "code",
   "execution_count": 81,
   "metadata": {},
   "outputs": [],
   "source": [
    "def extract_features(word):\n",
    "    my_mfcc = np.mean(librosa.feature.mfcc(y = word, sr = 44100, n_mfcc = 40).T, axis = 0)\n",
    "    my_mfcc = np.array([my_mfcc])\n",
    "    return my_mfcc"
   ]
  },
  {
   "cell_type": "markdown",
   "metadata": {},
   "source": [
    "# Ekstrakcja cech i podział na zbiór uczący i testowy w stosunku 4:1.\n",
    "### Podział przeprowadzony w sposób losowy"
   ]
  },
  {
   "cell_type": "code",
   "execution_count": 82,
   "metadata": {},
   "outputs": [],
   "source": [
    "from sklearn.model_selection import train_test_split\n",
    "\n",
    "commands = ['otwórz', 'zamknij', 'gorąco', 'zimno', 'ciemno', 'jasno', 'stop', 'rozwiń', 'zasłoń']\n",
    "\n",
    "file_ids, commands = zip(*[(person + str(cmd_idx * 5 + n_record + 1), cmd)\n",
    "                      for cmd_idx, cmd in enumerate(commands)\n",
    "                      for person in 'OJG'\n",
    "                      for n_record in range(5)])\n",
    "\n",
    "words = [load_voice_signal(file_id)[0] for file_id in file_ids]\n",
    "\n",
    "features = np.squeeze([extract_features(word) for word in words])\n",
    "\n",
    "(features_train, features_test,\n",
    "words_train, words_test,\n",
    "commands_train, commands_test) = train_test_split(features, words, commands, test_size=0.2)"
   ]
  },
  {
   "cell_type": "markdown",
   "metadata": {},
   "source": [
    "### Support Vector Classification - Wspierający wektor klasyfikacji:\n",
    "\n",
    "https://www.icsr.agh.edu.pl/~dzwinel/files/courses/C3-Classifiers.pdf\n",
    "\n"
   ]
  },
  {
   "cell_type": "code",
   "execution_count": 83,
   "metadata": {},
   "outputs": [
    {
     "name": "stdout",
     "output_type": "stream",
     "text": [
      "Dokładność klasyfikatora:0.48148148148148145\n"
     ]
    }
   ],
   "source": [
    "my_svc = SVC(kernel = \"linear\", C = 0.025)\n",
    "my_svc.fit(features_train, commands_train)\n",
    "predictions = my_svc.predict(features_test)\n",
    "print('Dokładność klasyfikatora:{}'.format(accuracy_score(commands_test, predictions)))"
   ]
  },
  {
   "cell_type": "markdown",
   "metadata": {},
   "source": [
    "#### Trzeba znaleźć jakiś algorytm uczenia, przykładowy algorytm: https://blog.manash.me/building-a-dead-simple-word-recognition-engine-using-convnet-in-keras-25e72c19c12b\n",
    "\n",
    "Uważam, że różnice pomiędzy tymi samymi słowami sa na tyle duże, że nie bedziemy w stanie nauczyć sieci => można zapisać to we wnioskach"
   ]
  },
  {
   "cell_type": "markdown",
   "metadata": {},
   "source": [
    "### 5. Porównanie sygnałów używając DWT\n",
    "http://cs.uccs.edu/~cs525/studentproj/projS2010/plama/doc/cs525-SpeechRecogntion.pdf\n",
    "\n",
    "http://research.cs.tamu.edu/prism/lectures/sp/l9.pdf\n",
    "\n",
    "http://web.science.mq.edu.au/~cassidy/comp449/html/ch11s02.html\n",
    "\n",
    "https://github.com/crawles/dtw/blob/master/Speech_Recognition_DTW.ipynb\n",
    "\n",
    "http://iosrjournals.org/iosr-jece/papers/NCIEST/Volume%202/3.%2012-16.pdf\n",
    "\n"
   ]
  },
  {
   "cell_type": "markdown",
   "metadata": {},
   "source": [
    "Obliczenie znormalizowanej odległości między komendami: zamknij oraz stop korzystając z metody DWT"
   ]
  },
  {
   "cell_type": "code",
   "execution_count": 85,
   "metadata": {},
   "outputs": [
    {
     "name": "stdout",
     "output_type": "stream",
     "text": [
      "Różnica odległości między komendą zamknij oraz stop 160.65010653932367\n"
     ]
    },
    {
     "data": {
      "image/png": "[encoded data removed]",
      "text/plain": [
       "<Figure size 432x288 with 2 Axes>"
      ]
     },
     "metadata": {},
     "output_type": "display_data"
    }
   ],
   "source": [
    "fs = 44100 # częstotliwość próbkowania sygnału\n",
    "same_words1 = [word for word, cmd in zip(words_test, commands_test) if cmd == 'zamknij']\n",
    "same_words2 = [word for word, cmd in zip(words_test, commands_test) if cmd == 'stop']\n",
    "word_1 = librosa.feature.mfcc(same_words1[1], fs, n_mfcc = 13)\n",
    "plt.subplot(1, 2, 1)\n",
    "librosa.display.specshow(word_1)\n",
    "word_2 = librosa.feature.mfcc(same_words1[2], fs, n_mfcc = 13)\n",
    "plt.subplot(1, 2, 2)\n",
    "\n",
    "librosa.display.specshow(word_2)\n",
    "\n",
    "dist, cost, acc_cost, path = dtw(word_2.T, word_1.T, dist=lambda x, y: np.linalg.norm(x - y, ord=1))\n",
    "print('Różnica odległości między komendą zamknij oraz stop' , dist)\n"
   ]
  },
  {
   "cell_type": "code",
   "execution_count": 86,
   "metadata": {},
   "outputs": [
    {
     "data": {
      "image/png": "[encoded data removed]",
      "text/plain": [
       "<Figure size 432x288 with 1 Axes>"
      ]
     },
     "metadata": {
      "needs_background": "light"
     },
     "output_type": "display_data"
    }
   ],
   "source": [
    "plt.imshow(acc_cost.T, origin='lower', cmap='gray', interpolation='nearest')\n",
    "plt.plot(path[0], path[1], 'w')\n",
    "plt.show()"
   ]
  },
  {
   "cell_type": "markdown",
   "metadata": {},
   "source": [
    "Obliczenie znormalizowanej odległości między komendą otwórz u dwóch różnych osób:"
   ]
  },
  {
   "cell_type": "code",
   "execution_count": 87,
   "metadata": {},
   "outputs": [
    {
     "name": "stdout",
     "output_type": "stream",
     "text": [
      "Różnica odległości między otwórz u dwóch różnych osób 4.756999420506903\n"
     ]
    },
    {
     "data": {
      "image/png": "[encoded data removed]",
      "text/plain": [
       "<Figure size 432x288 with 2 Axes>"
      ]
     },
     "metadata": {},
     "output_type": "display_data"
    }
   ],
   "source": [
    "path1 = 'J' + str(1)        \n",
    "path2 = 'O' + str(1)\n",
    "word_1 = extract_features(load_voice_signal(path1)[0])\n",
    "word_2 = extract_features(load_voice_signal(path2)[0])\n",
    "plt.subplot(1, 2, 1)\n",
    "librosa.display.specshow(word_1)\n",
    "plt.subplot(1, 2, 2)\n",
    "librosa.display.specshow(word_2)\n",
    "\n",
    "dist, cost, acc_cost, path = dtw(word_2.T, word_1.T, dist=lambda x, y: np.linalg.norm(x - y, ord=1))\n",
    "print('Różnica odległości między otwórz u dwóch różnych osób' , dist)"
   ]
  },
  {
   "cell_type": "markdown",
   "metadata": {},
   "source": [
    "Obliczenie znormalizowanej odległości między komendą zamknij u jednej osoby:"
   ]
  },
  {
   "cell_type": "code",
   "execution_count": 88,
   "metadata": {},
   "outputs": [
    {
     "name": "stdout",
     "output_type": "stream",
     "text": [
      "Różnica odległości między otwórz u tej samej osoby: 1.9417552141448073\n"
     ]
    },
    {
     "data": {
      "image/png": "[encoded data removed]",
      "text/plain": [
       "<Figure size 432x288 with 2 Axes>"
      ]
     },
     "metadata": {},
     "output_type": "display_data"
    }
   ],
   "source": [
    "path1 = 'J' + str(6)        \n",
    "path2 = 'J' + str(10)\n",
    "word_1 = extract_features(load_voice_signal(path1)[0])\n",
    "word_2 = extract_features(load_voice_signal(path2)[0])\n",
    "plt.subplot(1, 2, 1)\n",
    "librosa.display.specshow(word_1)\n",
    "plt.subplot(1, 2, 2)\n",
    "librosa.display.specshow(word_2)\n",
    "\n",
    "dist, cost, acc_cost, path = dtw(word_2.T, word_1.T, dist=lambda x, y: np.linalg.norm(x - y, ord=1))\n",
    "print('Różnica odległości między otwórz u tej samej osoby:' , dist)\n"
   ]
  },
  {
   "cell_type": "markdown",
   "metadata": {},
   "source": [
    "# Wnioski\n",
    "\n",
    "1. Sygnał mowy jest sygnałem ciężkim do analizy. Zależy on od barwy głosu, od stanu emocjonalnego danej osoby (czy wypowiada się będąc spokojnym czy zdenerwowanym) czy też stopnia zmęczenia. Z tego względu zbiór nagrań zawierający te samo sowo może mieć wysokie odchylenie standardowe odległości, co może spowodować błędną klasyfikację. Szczególnie, jeżeli analizowane sygnały pochodzą od wielu osób. \n",
    " \n",
    "2. Problemem podczas wykonywania projektu, była niewielka próba - posiadano zaledwie 15 nagrań tego samego słowa. Były to słowa nagrywane przez trzy osoby pięciokrotnie w różnych porach dnia i o różnym stopniu zmęczenia i nastroju osoby nagrywającej słowa. W związku z tym należałoby znormalizować sposób akwizycji sygnałów oraz stworzyć większą bazę danych. \n"
   ]
  },
  {
   "cell_type": "markdown",
   "metadata": {},
   "source": [
    "### TODO \n",
    "Ta kolorowa macierz ?\n",
    "\n",
    "proownanie slowa goraco wypowiedziane przez ta sama osobe"
   ]
  },
  {
   "cell_type": "code",
   "execution_count": 95,
   "metadata": {},
   "outputs": [
    {
     "data": {
      "image/png": "[encoded data removed]",
      "text/plain": [
       "<Figure size 1600x1600 with 2 Axes>"
      ]
     },
     "metadata": {},
     "output_type": "display_data"
    }
   ],
   "source": [
    "my_dist = np.ndarray(shape = (5, 5))\n",
    "my_com = ['goraco'] *5 \n",
    "\n",
    "path = 'G' + str(11)\n",
    "my_dist1 = extract_features(load_voice_signal(path)[0])\n",
    "\n",
    "path = 'G' + str(12)\n",
    "my_dist2 = extract_features(load_voice_signal(path)[0])\n",
    "\n",
    "path = 'G' + str(13)\n",
    "my_dist3= extract_features(load_voice_signal(path)[0])\n",
    "\n",
    "path = 'G' + str(14)\n",
    "my_dist4 = extract_features(load_voice_signal(path)[0])\n",
    "\n",
    "path = 'G' + str(15)\n",
    "my_dist5 = extract_features(load_voice_signal(path)[0])\n",
    "\n",
    "dist, cost, acc_cost, path = dtw(my_dist1.T, my_dist1.T, dist=lambda x, y: np.linalg.norm(x - y, ord=1))\n",
    "my_dist[0][0] = dist\n",
    "\n",
    "dist, cost, acc_cost, path = dtw(my_dist2.T, my_dist2.T, dist=lambda x, y: np.linalg.norm(x - y, ord=1))\n",
    "my_dist[1][1] = dist\n",
    "\n",
    "dist, cost, acc_cost, path = dtw(my_dist3.T, my_dist3.T, dist=lambda x, y: np.linalg.norm(x - y, ord=1))\n",
    "my_dist[2][2] = dist\n",
    "\n",
    "dist, cost, acc_cost, path = dtw(my_dist4.T, my_dist4.T, dist=lambda x, y: np.linalg.norm(x - y, ord=1))\n",
    "my_dist[3][3] = dist\n",
    "\n",
    "dist, cost, acc_cost, path = dtw(my_dist5.T, my_dist5.T, dist=lambda x, y: np.linalg.norm(x - y, ord=1))\n",
    "my_dist[4][4] = dist\n",
    "\n",
    "dist, cost, acc_cost, path = dtw(my_dist1.T, my_dist2.T, dist=lambda x, y: np.linalg.norm(x - y, ord=1))\n",
    "my_dist[0][1] = dist\n",
    "my_dist[1][0] = dist\n",
    "\n",
    "dist, cost, acc_cost, path = dtw(my_dist1.T, my_dist3.T, dist=lambda x, y: np.linalg.norm(x - y, ord=1))\n",
    "my_dist[0][2] = dist\n",
    "my_dist[2][0] = dist\n",
    "\n",
    "\n",
    "dist, cost, acc_cost, path = dtw(my_dist1.T, my_dist4.T, dist=lambda x, y: np.linalg.norm(x - y, ord=1))\n",
    "my_dist[0][3] = dist\n",
    "my_dist[3][0] = dist\n",
    "\n",
    "\n",
    "dist, cost, acc_cost, path = dtw(my_dist1.T, my_dist5.T, dist=lambda x, y: np.linalg.norm(x - y, ord=1))\n",
    "my_dist[0][4] = dist\n",
    "my_dist[4][0] = dist\n",
    "\n",
    "\n",
    "dist, cost, acc_cost, path = dtw(my_dist2.T, my_dist3.T, dist=lambda x, y: np.linalg.norm(x - y, ord=1))\n",
    "my_dist[1][2] = dist\n",
    "my_dist[2][1] = dist\n",
    "\n",
    "\n",
    "dist, cost, acc_cost, path = dtw(my_dist2.T, my_dist4.T, dist=lambda x, y: np.linalg.norm(x - y, ord=1))\n",
    "my_dist[1][3] = dist\n",
    "my_dist[3][1] = dist\n",
    "\n",
    "\n",
    "dist, cost, acc_cost, path = dtw(my_dist2.T, my_dist5.T, dist=lambda x, y: np.linalg.norm(x - y, ord=1))\n",
    "my_dist[1][4] = dist\n",
    "my_dist[4][1] = dist\n",
    "\n",
    "dist, cost, acc_cost, path = dtw(my_dist3.T, my_dist4.T, dist=lambda x, y: np.linalg.norm(x - y, ord=1))\n",
    "my_dist[2][3] = dist\n",
    "my_dist[3][2] = dist\n",
    "\n",
    "\n",
    "dist, cost, acc_cost, path = dtw(my_dist3.T, my_dist5.T, dist=lambda x, y: np.linalg.norm(x - y, ord=1))\n",
    "my_dist[2][4] = dist\n",
    "my_dist[4][2] = dist\n",
    "\n",
    "\n",
    "dist, cost, acc_cost, path = dtw(my_dist4.T, my_dist5.T, dist=lambda x, y: np.linalg.norm(x - y, ord=1))\n",
    "my_dist[3][4] = dist\n",
    "my_dist[4][3] = dist\n",
    "\n",
    "        \n",
    "plt.figure(figsize=(20,20), dpi= 80, facecolor='w', edgecolor='k')\n",
    "plt.imshow(my_dist, cmap='hot')\n",
    "plt.colorbar()\n",
    "plt.tick_params(axis = 'on', bottom='off', top='on', labelbottom='off', labeltop='on')\n",
    "plt.xticks(range(len(my_dist)), my_com, rotation=90)\n",
    "plt.yticks(range(len(my_dist)), my_com)\n",
    "plt.show()\n",
    "\n"
   ]
  },
  {
   "cell_type": "markdown",
   "metadata": {},
   "source": [
    "### Macierz porównania słowa otworz dla trzech różnych osób"
   ]
  },
  {
   "cell_type": "code",
   "execution_count": 100,
   "metadata": {},
   "outputs": [
    {
     "data": {
      "image/png": "[encoded data removed]",
      "text/plain": [
       "<Figure size 1600x1600 with 2 Axes>"
      ]
     },
     "metadata": {},
     "output_type": "display_data"
    }
   ],
   "source": [
    "my_dist = np.ndarray(shape = (3, 3))\n",
    "my_com = ['ciemnoG', 'ciemnoJ', 'ciemnoO']\n",
    "\n",
    "path = 'G' + str(2)\n",
    "my_dist1 = extract_features(load_voice_signal(path)[0])\n",
    "\n",
    "path = 'J' + str(2)\n",
    "my_dist2 = extract_features(load_voice_signal(path)[0])\n",
    "\n",
    "path = 'O' + str(2)\n",
    "my_dist3= extract_features(load_voice_signal(path)[0])\n",
    "\n",
    "\n",
    "dist, cost, acc_cost, path = dtw(my_dist1.T, my_dist1.T, dist=lambda x, y: np.linalg.norm(x - y, ord=1))\n",
    "my_dist[0][0] = dist\n",
    "\n",
    "dist, cost, acc_cost, path = dtw(my_dist2.T, my_dist2.T, dist=lambda x, y: np.linalg.norm(x - y, ord=1))\n",
    "my_dist[1][1] = dist\n",
    "\n",
    "dist, cost, acc_cost, path = dtw(my_dist3.T, my_dist3.T, dist=lambda x, y: np.linalg.norm(x - y, ord=1))\n",
    "my_dist[2][2] = dist\n",
    "\n",
    "\n",
    "dist, cost, acc_cost, path = dtw(my_dist1.T, my_dist2.T, dist=lambda x, y: np.linalg.norm(x - y, ord=1))\n",
    "my_dist[0][1] = dist\n",
    "my_dist[1][0] = dist\n",
    "\n",
    "dist, cost, acc_cost, path = dtw(my_dist1.T, my_dist3.T, dist=lambda x, y: np.linalg.norm(x - y, ord=1))\n",
    "my_dist[0][2] = dist\n",
    "my_dist[2][0] = dist\n",
    "\n",
    "\n",
    "\n",
    "dist, cost, acc_cost, path = dtw(my_dist2.T, my_dist3.T, dist=lambda x, y: np.linalg.norm(x - y, ord=1))\n",
    "my_dist[1][2] = dist\n",
    "my_dist[2][1] = dist\n",
    "\n",
    "\n",
    "        \n",
    "plt.figure(figsize=(20,20), dpi= 80, facecolor='w', edgecolor='k')\n",
    "plt.imshow(my_dist, cmap='hot')\n",
    "plt.colorbar()\n",
    "plt.tick_params(axis = 'on', bottom='off', top='on', labelbottom='off', labeltop='on')\n",
    "plt.xticks(range(len(my_dist)), my_com, rotation=90)\n",
    "plt.yticks(range(len(my_dist)), my_com)\n",
    "plt.show()\n",
    "\n"
   ]
  },
  {
   "cell_type": "code",
   "execution_count": 90,
   "metadata": {},
   "outputs": [
    {
     "data": {
      "text/plain": [
       "\"\\nPRÓBOWAŁAM TUTAJ OBLICZYĆ ŚREDNIĄ DLA KAŻDEGO WYRAZU\\n\\n\\nmy_dist_otworz = np.ndarray((15,40))\\n\\nj = 0\\nfor i in range(1,6):\\n    \\n    path = 'G' + str(i)\\n    my_dist_otworz[j,:] = extract_features(load_voice_signal(path)[0])\\n    j = j+1\\n    path = 'J' + str(i)\\n    my_dist_otworz[j,:] = extract_features(load_voice_signal(path)[0])\\n    j = j +1\\n    path = 'O' + str(i)\\n    my_dist_otworz[j,:]= extract_features(load_voice_signal(path)[0])\\n\\nmy_dist_zamknij = np.ndarray((15,40))\\n\\nj = 0\\nfor i in range(6,11):\\n    \\n    path = 'G' + str(i)\\n    my_dist_zamknij[j,:] = extract_features(load_voice_signal(path)[0])\\n    j = j+1\\n    path = 'J' + str(i)\\n    my_dist_zamknij[j,:] = extract_features(load_voice_signal(path)[0])\\n    j = j +1\\n    path = 'O' + str(i)\\n    my_dist_zamknij[j,:]= extract_features(load_voice_signal(path)[0])\\n\\n    \\nmy_dist_goraco = np.ndarray((15,40))\\n\\nj = 0\\nfor i in range(11,16):\\n    \\n    path = 'G' + str(i)\\n    my_dist_goraco[j,:] = extract_features(load_voice_signal(path)[0])\\n    j = j+1\\n    path = 'J' + str(i)\\n    my_dist_goraco[j,:] = extract_features(load_voice_signal(path)[0])\\n    j = j +1\\n    path = 'O' + str(i)\\n    my_dist_goraco[j,:]= extract_features(load_voice_signal(path)[0])\\n\\n    \\nmy_dist_zimno = np.ndarray((15,40))\\n\\nj = 0\\nfor i in range(16,21):\\n    \\n    path = 'G' + str(i)\\n    my_dist_zimno[j,:] = extract_features(load_voice_signal(path)[0])\\n    j = j+1\\n    path = 'J' + str(i)\\n    my_dist_zimno[j,:] = extract_features(load_voice_signal(path)[0])\\n    j = j +1\\n    path = 'O' + str(i)\\n    my_dist_zimno[j,:]= extract_features(load_voice_signal(path)[0])\\n\\n    \\nmy_dist_ciemno = np.ndarray((15,40))\\n\\nj = 0\\nfor i in range(21,26):\\n    \\n    path = 'G' + str(i)\\n    my_dist_ciemno[j,:] = extract_features(load_voice_signal(path)[0])\\n    j = j+1\\n    path = 'J' + str(i)\\n    my_dist_ciemno[j,:] = extract_features(load_voice_signal(path)[0])\\n    j = j +1\\n    path = 'O' + str(i)\\n    my_dist_ciemno[j,:]= extract_features(load_voice_signal(path)[0])\\n\\n    \\nmy_dist_jasno = np.ndarray((15,40))\\n\\nj = 0\\nfor i in range(26,31):\\n    \\n    path = 'G' + str(i)\\n    my_dist_jasno[j,:] = extract_features(load_voice_signal(path)[0])\\n    j = j+1\\n    path = 'J' + str(i)\\n    my_dist_jasno[j,:] = extract_features(load_voice_signal(path)[0])\\n    j = j +1\\n    path = 'O' + str(i)\\n    my_dist_jasno[j,:]= extract_features(load_voice_signal(path)[0])\\n\\n    \\nmy_dist_stop = np.ndarray((15,40))\\n\\nj = 0\\nfor i in range(31,36):\\n    \\n    path = 'G' + str(i)\\n    my_dist_stop[j,:] = extract_features(load_voice_signal(path)[0])\\n    j = j+1\\n    path = 'J' + str(i)\\n    my_dist_stop[j,:] = extract_features(load_voice_signal(path)[0])\\n    j = j +1\\n    path = 'O' + str(i)\\n    my_dist_stop[j,:]= extract_features(load_voice_signal(path)[0])\\n\\n    \\nmy_dist_rozwin = np.ndarray((15,40))\\n\\nj = 0\\nfor i in range(36,41):\\n    \\n    path = 'G' + str(i)\\n    my_dist_rozwin[j,:] = extract_features(load_voice_signal(path)[0])\\n    j = j+1\\n    path = 'J' + str(i)\\n    my_dist_rozwin[j,:] = extract_features(load_voice_signal(path)[0])\\n    j = j +1\\n    path = 'O' + str(i)\\n    my_dist_rozwin[j,:]= extract_features(load_voice_signal(path)[0])\\n\\n    \\nmy_dist_zaslon = np.ndarray((15,40))\\n\\nj = 0\\nfor i in range(41,46):\\n    \\n    path = 'G' + str(i)\\n    my_dist_zaslon[j,:] = extract_features(load_voice_signal(path)[0])\\n    j = j+1\\n    path = 'J' + str(i)\\n    my_dist_zaslon[j,:] = extract_features(load_voice_signal(path)[0])\\n    j = j +1\\n    path = 'O' + str(i)\\n    my_dist_zaslon[j,:]= extract_features(load_voice_signal(path)[0])\\n\\n\\ndist_otworz = np.mean(my_dist_otworz, axis=0)\\ndist_zamknij = np.mean(my_dist_zamknij, axis=0)\\ndist_goraco = np.mean(my_dist_goraco, axis=0)\\ndist_zimno = np.mean(my_dist_zimno, axis=0)\\ndist_ciemno = np.mean(my_dist_ciemno, axis=0)\\ndist_jasno = np.mean(my_dist_jasno, axis=0)\\ndist_stop = np.mean(my_dist_stop, axis=0)\\ndist_rozwin = np.mean(my_dist_rozwin, axis=0)\\ndist_zaslon = np.mean(my_dist_zaslon, axis=0)\\n\\notworz = np.ndarray((1,40))\\nzamknij = np.ndarray((1,40))\\ngoraco = np.ndarray((1,40))\\nzimno = np.ndarray((1,40))\\nciemno = np.ndarray((1,40))\\njasno = np.ndarray((1,40))\\nstop = np.ndarray((1,40))\\nrozwin = np.ndarray((1,40))\\nzaslon = np.ndarray((1,40))\\n\\notworz[0, :] = dist_otworz\\nzamknij[0, :] = dist_zamknij\\ngoraco[0, :] = dist_goraco\\nzimno[0, :] = dist_zimno\\nciemno[0, :] = dist_ciemno\\njasno[0, :] = dist_jasno\\nstop[0, :] = dist_stop\\nrozwin[0, :] = dist_rozwin\\nzaslon[0, :] = dist_zaslon\\n\\nprint(my_dist_otworz[0])\\nprint(dist_otworz)\\n\""
      ]
     },
     "execution_count": 90,
     "metadata": {},
     "output_type": "execute_result"
    }
   ],
   "source": [
    "\"\"\"\n",
    "PRÓBOWAŁAM TUTAJ OBLICZYĆ ŚREDNIĄ DLA KAŻDEGO WYRAZU\n",
    "\n",
    "\n",
    "my_dist_otworz = np.ndarray((15,40))\n",
    "\n",
    "j = 0\n",
    "for i in range(1,6):\n",
    "    \n",
    "    path = 'G' + str(i)\n",
    "    my_dist_otworz[j,:] = extract_features(load_voice_signal(path)[0])\n",
    "    j = j+1\n",
    "    path = 'J' + str(i)\n",
    "    my_dist_otworz[j,:] = extract_features(load_voice_signal(path)[0])\n",
    "    j = j +1\n",
    "    path = 'O' + str(i)\n",
    "    my_dist_otworz[j,:]= extract_features(load_voice_signal(path)[0])\n",
    "\n",
    "my_dist_zamknij = np.ndarray((15,40))\n",
    "\n",
    "j = 0\n",
    "for i in range(6,11):\n",
    "    \n",
    "    path = 'G' + str(i)\n",
    "    my_dist_zamknij[j,:] = extract_features(load_voice_signal(path)[0])\n",
    "    j = j+1\n",
    "    path = 'J' + str(i)\n",
    "    my_dist_zamknij[j,:] = extract_features(load_voice_signal(path)[0])\n",
    "    j = j +1\n",
    "    path = 'O' + str(i)\n",
    "    my_dist_zamknij[j,:]= extract_features(load_voice_signal(path)[0])\n",
    "\n",
    "    \n",
    "my_dist_goraco = np.ndarray((15,40))\n",
    "\n",
    "j = 0\n",
    "for i in range(11,16):\n",
    "    \n",
    "    path = 'G' + str(i)\n",
    "    my_dist_goraco[j,:] = extract_features(load_voice_signal(path)[0])\n",
    "    j = j+1\n",
    "    path = 'J' + str(i)\n",
    "    my_dist_goraco[j,:] = extract_features(load_voice_signal(path)[0])\n",
    "    j = j +1\n",
    "    path = 'O' + str(i)\n",
    "    my_dist_goraco[j,:]= extract_features(load_voice_signal(path)[0])\n",
    "\n",
    "    \n",
    "my_dist_zimno = np.ndarray((15,40))\n",
    "\n",
    "j = 0\n",
    "for i in range(16,21):\n",
    "    \n",
    "    path = 'G' + str(i)\n",
    "    my_dist_zimno[j,:] = extract_features(load_voice_signal(path)[0])\n",
    "    j = j+1\n",
    "    path = 'J' + str(i)\n",
    "    my_dist_zimno[j,:] = extract_features(load_voice_signal(path)[0])\n",
    "    j = j +1\n",
    "    path = 'O' + str(i)\n",
    "    my_dist_zimno[j,:]= extract_features(load_voice_signal(path)[0])\n",
    "\n",
    "    \n",
    "my_dist_ciemno = np.ndarray((15,40))\n",
    "\n",
    "j = 0\n",
    "for i in range(21,26):\n",
    "    \n",
    "    path = 'G' + str(i)\n",
    "    my_dist_ciemno[j,:] = extract_features(load_voice_signal(path)[0])\n",
    "    j = j+1\n",
    "    path = 'J' + str(i)\n",
    "    my_dist_ciemno[j,:] = extract_features(load_voice_signal(path)[0])\n",
    "    j = j +1\n",
    "    path = 'O' + str(i)\n",
    "    my_dist_ciemno[j,:]= extract_features(load_voice_signal(path)[0])\n",
    "\n",
    "    \n",
    "my_dist_jasno = np.ndarray((15,40))\n",
    "\n",
    "j = 0\n",
    "for i in range(26,31):\n",
    "    \n",
    "    path = 'G' + str(i)\n",
    "    my_dist_jasno[j,:] = extract_features(load_voice_signal(path)[0])\n",
    "    j = j+1\n",
    "    path = 'J' + str(i)\n",
    "    my_dist_jasno[j,:] = extract_features(load_voice_signal(path)[0])\n",
    "    j = j +1\n",
    "    path = 'O' + str(i)\n",
    "    my_dist_jasno[j,:]= extract_features(load_voice_signal(path)[0])\n",
    "\n",
    "    \n",
    "my_dist_stop = np.ndarray((15,40))\n",
    "\n",
    "j = 0\n",
    "for i in range(31,36):\n",
    "    \n",
    "    path = 'G' + str(i)\n",
    "    my_dist_stop[j,:] = extract_features(load_voice_signal(path)[0])\n",
    "    j = j+1\n",
    "    path = 'J' + str(i)\n",
    "    my_dist_stop[j,:] = extract_features(load_voice_signal(path)[0])\n",
    "    j = j +1\n",
    "    path = 'O' + str(i)\n",
    "    my_dist_stop[j,:]= extract_features(load_voice_signal(path)[0])\n",
    "\n",
    "    \n",
    "my_dist_rozwin = np.ndarray((15,40))\n",
    "\n",
    "j = 0\n",
    "for i in range(36,41):\n",
    "    \n",
    "    path = 'G' + str(i)\n",
    "    my_dist_rozwin[j,:] = extract_features(load_voice_signal(path)[0])\n",
    "    j = j+1\n",
    "    path = 'J' + str(i)\n",
    "    my_dist_rozwin[j,:] = extract_features(load_voice_signal(path)[0])\n",
    "    j = j +1\n",
    "    path = 'O' + str(i)\n",
    "    my_dist_rozwin[j,:]= extract_features(load_voice_signal(path)[0])\n",
    "\n",
    "    \n",
    "my_dist_zaslon = np.ndarray((15,40))\n",
    "\n",
    "j = 0\n",
    "for i in range(41,46):\n",
    "    \n",
    "    path = 'G' + str(i)\n",
    "    my_dist_zaslon[j,:] = extract_features(load_voice_signal(path)[0])\n",
    "    j = j+1\n",
    "    path = 'J' + str(i)\n",
    "    my_dist_zaslon[j,:] = extract_features(load_voice_signal(path)[0])\n",
    "    j = j +1\n",
    "    path = 'O' + str(i)\n",
    "    my_dist_zaslon[j,:]= extract_features(load_voice_signal(path)[0])\n",
    "\n",
    "\n",
    "dist_otworz = np.mean(my_dist_otworz, axis=0)\n",
    "dist_zamknij = np.mean(my_dist_zamknij, axis=0)\n",
    "dist_goraco = np.mean(my_dist_goraco, axis=0)\n",
    "dist_zimno = np.mean(my_dist_zimno, axis=0)\n",
    "dist_ciemno = np.mean(my_dist_ciemno, axis=0)\n",
    "dist_jasno = np.mean(my_dist_jasno, axis=0)\n",
    "dist_stop = np.mean(my_dist_stop, axis=0)\n",
    "dist_rozwin = np.mean(my_dist_rozwin, axis=0)\n",
    "dist_zaslon = np.mean(my_dist_zaslon, axis=0)\n",
    "\n",
    "otworz = np.ndarray((1,40))\n",
    "zamknij = np.ndarray((1,40))\n",
    "goraco = np.ndarray((1,40))\n",
    "zimno = np.ndarray((1,40))\n",
    "ciemno = np.ndarray((1,40))\n",
    "jasno = np.ndarray((1,40))\n",
    "stop = np.ndarray((1,40))\n",
    "rozwin = np.ndarray((1,40))\n",
    "zaslon = np.ndarray((1,40))\n",
    "\n",
    "otworz[0, :] = dist_otworz\n",
    "zamknij[0, :] = dist_zamknij\n",
    "goraco[0, :] = dist_goraco\n",
    "zimno[0, :] = dist_zimno\n",
    "ciemno[0, :] = dist_ciemno\n",
    "jasno[0, :] = dist_jasno\n",
    "stop[0, :] = dist_stop\n",
    "rozwin[0, :] = dist_rozwin\n",
    "zaslon[0, :] = dist_zaslon\n",
    "\n",
    "print(my_dist_otworz[0])\n",
    "print(dist_otworz)\n",
    "\"\"\""
   ]
  },
  {
   "cell_type": "code",
   "execution_count": 91,
   "metadata": {},
   "outputs": [
    {
     "name": "stdout",
     "output_type": "stream",
     "text": [
      "[-4.50426208e+02  4.62972510e+01  2.42244588e+01 -1.47615652e+01\n",
      "  1.12658574e+00 -2.61158261e+01  1.13608753e+01 -2.07405855e+01\n",
      " -6.40570631e-01 -5.13569104e+00 -2.42074130e+00 -6.91682992e+00\n",
      " -2.39110370e+00 -9.60498723e+00 -7.57692811e+00  1.43210229e+00\n",
      " -1.59239159e+00 -1.97229873e+00 -4.87620013e+00  1.06825100e+00\n",
      "  8.66157762e-01  5.54813007e-01  2.05283398e-02  5.16893601e-01\n",
      "  2.32957903e+00  2.45054240e+00  2.41752088e+00 -2.37866674e-01\n",
      "  6.69769169e-01 -1.98028615e+00 -2.45746949e-01  3.87170175e+00\n",
      "  2.81376667e+00  2.30061926e+00  6.12665939e+00  6.61697297e+00\n",
      "  3.87894560e+00  4.72761846e+00  2.91101729e+00  2.13178757e+00]\n",
      "[-3.03978540e+002  5.25769961e+001  7.32007343e+000 -6.12222953e+000\n",
      " -4.82979660e+000 -9.86058294e+000 -2.76326067e+000 -7.80064039e+000\n",
      " -9.53046694e-001 -1.99350015e+000 -4.28851837e+000 -5.11823170e+000\n",
      "  8.93128300e+217 -5.75156549e+000  1.33878092e+173  1.17693831e+136\n",
      "  2.03462515e+168  3.90064623e+169  8.36996240e+230  3.07405148e+251\n",
      " -7.57367527e-001  3.84727138e+227  5.92991311e+251 -1.39541348e+000\n",
      "  2.49445295e+232 -1.79108662e+000 -1.90844618e+000 -2.93572790e+000\n",
      "  5.54893505e+150  8.63612354e+130  5.91775519e+246  3.24885052e+198\n",
      "  6.14698755e+139  1.58554165e+136  5.91803302e+246  1.66694516e+000\n",
      "  7.31545334e+246  1.14675181e-002  8.34279596e+198 -1.11783731e-001]\n"
     ]
    }
   ],
   "source": [
    "\"\"\"\n",
    "    TUTAJ NIE MA ŚREDNIEJ, WYCIĄGNĘŁAM CECHY Z POJEDYNCZEGO NAGRANIA JEDNEJ TEJ SAMEJ OSOBY\n",
    "\"\"\"\n",
    "\n",
    "my_dist_otworz = np.ndarray((1,40))\n",
    "\n",
    "path = 'J' + str(1)\n",
    "my_dist_otworz = extract_features(load_voice_signal(path)[0])\n",
    "\n",
    "\n",
    "my_dist_zamknij = np.ndarray((1,40))\n",
    "\n",
    "path = 'J' + str(5)\n",
    "my_dist_zamknij = extract_features(load_voice_signal(path)[0])\n",
    "    \n",
    "my_dist_goraco = np.ndarray((1,40))\n",
    "\n",
    "path = 'J' + str(11)\n",
    "my_dist_goraco = extract_features(load_voice_signal(path)[0])\n",
    "\n",
    "    \n",
    "my_dist_zimno = np.ndarray((1,40))\n",
    "\n",
    "path = 'J' + str(16)\n",
    "my_dist_zimno = extract_features(load_voice_signal(path)[0])\n",
    "\n",
    "    \n",
    "path = 'J' + str(21)\n",
    "my_dist_ciemno = extract_features(load_voice_signal(path)[0])\n",
    "\n",
    "    \n",
    "my_dist_jasno = np.ndarray((1,40))\n",
    "\n",
    "path = 'J' + str(26)\n",
    "my_dist_jasno = extract_features(load_voice_signal(path)[0])\n",
    "\n",
    "    \n",
    "my_dist_stop = np.ndarray((1,40))\n",
    "\n",
    "path = 'J' + str(31)\n",
    "my_dist_stop = extract_features(load_voice_signal(path)[0])\n",
    "\n",
    "    \n",
    "my_dist_rozwin = np.ndarray((1,40))\n",
    "\n",
    "path = 'J' + str(36)\n",
    "my_dist_rozwin = extract_features(load_voice_signal(path)[0])\n",
    "    \n",
    "my_dist_zaslon = np.ndarray((1,40))\n",
    "\n",
    "path = 'J' + str(41)\n",
    "my_dist_zaslon = extract_features(load_voice_signal(path)[0])\n",
    "\n",
    "\n",
    "otworz = np.ndarray((1,40))\n",
    "zamknij = np.ndarray((1,40))\n",
    "goraco = np.ndarray((1,40))\n",
    "zimno = np.ndarray((1,40))\n",
    "ciemno = np.ndarray((1,40))\n",
    "jasno = np.ndarray((1,40))\n",
    "stop = np.ndarray((1,40))\n",
    "rozwin = np.ndarray((1,40))\n",
    "zaslon = np.ndarray((1,40))\n",
    "\n",
    "otworz[0, :] = my_dist_otworz\n",
    "zamknij[0, :] = my_dist_zamknij\n",
    "goraco[0, :] = my_dist_goraco\n",
    "zimno[0, :] = my_dist_zimno\n",
    "ciemno[0, :] = my_dist_ciemno\n",
    "jasno[0, :] = my_dist_jasno\n",
    "stop[0, :] = my_dist_stop\n",
    "rozwin[0, :] = my_dist_rozwin\n",
    "zaslon[0, :] = my_dist_zaslon\n",
    "\n",
    "print(my_dist_otworz[0])\n",
    "print(dist_otworz)"
   ]
  },
  {
   "cell_type": "code",
   "execution_count": 92,
   "metadata": {},
   "outputs": [
    {
     "data": {
      "image/png": "[encoded data removed]",
      "text/plain": [
       "<Figure size 1600x1600 with 2 Axes>"
      ]
     },
     "metadata": {},
     "output_type": "display_data"
    }
   ],
   "source": [
    "my_dist = np.ndarray(shape = (9, 9))\n",
    "commands = ['otwórz', 'zamknij', 'gorąco', 'zimno', 'ciemno', 'jasno', 'stop', 'rozwiń', 'zasłoń']\n",
    "\n",
    "\n",
    "dist, cost, acc_cost, path = dtw(otworz.T, otworz.T, dist=lambda x, y: np.linalg.norm(x - y, ord=1))\n",
    "my_dist[0][0] = dist\n",
    "\n",
    "dist, cost, acc_cost, path = dtw(zamknij.T, zamknij.T, dist=lambda x, y: np.linalg.norm(x - y, ord=1))\n",
    "my_dist[1][1] = dist\n",
    "\n",
    "dist, cost, acc_cost, path = dtw(goraco.T, goraco.T, dist=lambda x, y: np.linalg.norm(x - y, ord=1))\n",
    "my_dist[2][2] = dist\n",
    "\n",
    "dist, cost, acc_cost, path = dtw(zimno.T, zimno.T, dist=lambda x, y: np.linalg.norm(x - y, ord=1))\n",
    "my_dist[3][3] = dist\n",
    "\n",
    "dist, cost, acc_cost, path = dtw(ciemno.T, ciemno.T, dist=lambda x, y: np.linalg.norm(x - y, ord=1))\n",
    "my_dist[4][4] = dist\n",
    "\n",
    "dist, cost, acc_cost, path = dtw(jasno.T, jasno.T, dist=lambda x, y: np.linalg.norm(x - y, ord=1))\n",
    "my_dist[5][5] = dist\n",
    "\n",
    "dist, cost, acc_cost, path = dtw(stop.T, stop.T, dist=lambda x, y: np.linalg.norm(x - y, ord=1))\n",
    "my_dist[6][6] = dist\n",
    "\n",
    "dist, cost, acc_cost, path = dtw(rozwin.T, rozwin.T, dist=lambda x, y: np.linalg.norm(x - y, ord=1))\n",
    "my_dist[7][7] = dist\n",
    "\n",
    "dist, cost, acc_cost, path = dtw(zaslon.T, zaslon.T, dist=lambda x, y: np.linalg.norm(x - y, ord=1))\n",
    "my_dist[8][8] = dist\n",
    "\n",
    "\n",
    "dist, cost, acc_cost, path = dtw(otworz.T, zamknij.T, dist=lambda x, y: np.linalg.norm(x - y, ord=1))\n",
    "my_dist[0][1] = dist\n",
    "my_dist[1][0] = dist\n",
    "\n",
    "dist, cost, acc_cost, path = dtw(otworz.T, goraco.T, dist=lambda x, y: np.linalg.norm(x - y, ord=1))\n",
    "my_dist[0][2] = dist\n",
    "my_dist[2][0] = dist\n",
    "\n",
    "\n",
    "dist, cost, acc_cost, path = dtw(otworz.T, zimno.T, dist=lambda x, y: np.linalg.norm(x - y, ord=1))\n",
    "my_dist[0][3] = dist\n",
    "my_dist[3][0] = dist\n",
    "\n",
    "\n",
    "dist, cost, acc_cost, path = dtw(otworz.T, ciemno.T, dist=lambda x, y: np.linalg.norm(x - y, ord=1))\n",
    "my_dist[0][4] = dist\n",
    "my_dist[4][0] = dist\n",
    "\n",
    "\n",
    "dist, cost, acc_cost, path = dtw(otworz.T, jasno.T, dist=lambda x, y: np.linalg.norm(x - y, ord=1))\n",
    "my_dist[0][5] = dist\n",
    "my_dist[5][0] = dist\n",
    "\n",
    "dist, cost, acc_cost, path = dtw(otworz.T, stop.T, dist=lambda x, y: np.linalg.norm(x - y, ord=1))\n",
    "my_dist[0][6] = dist\n",
    "my_dist[6][0] = dist\n",
    "\n",
    "\n",
    "dist, cost, acc_cost, path = dtw(otworz.T, rozwin.T, dist=lambda x, y: np.linalg.norm(x - y, ord=1))\n",
    "my_dist[0][7] = dist\n",
    "my_dist[7][0] = dist\n",
    "\n",
    "\n",
    "dist, cost, acc_cost, path = dtw(otworz.T, zaslon.T, dist=lambda x, y: np.linalg.norm(x - y, ord=1))\n",
    "my_dist[0][8] = dist\n",
    "my_dist[8][0] = dist\n",
    "\n",
    "\n",
    "dist, cost, acc_cost, path = dtw(zamknij.T, goraco.T, dist=lambda x, y: np.linalg.norm(x - y, ord=1))\n",
    "my_dist[1][2] = dist\n",
    "my_dist[2][1] = dist\n",
    "\n",
    "\n",
    "dist, cost, acc_cost, path = dtw(zamknij.T, zimno.T, dist=lambda x, y: np.linalg.norm(x - y, ord=1))\n",
    "my_dist[1][3] = dist\n",
    "my_dist[3][1] = dist\n",
    "\n",
    "\n",
    "dist, cost, acc_cost, path = dtw(zamknij.T, ciemno.T, dist=lambda x, y: np.linalg.norm(x - y, ord=1))\n",
    "my_dist[1][4] = dist\n",
    "my_dist[4][1] = dist\n",
    "\n",
    "\n",
    "dist, cost, acc_cost, path = dtw(zamknij.T, jasno.T, dist=lambda x, y: np.linalg.norm(x - y, ord=1))\n",
    "my_dist[1][5] = dist\n",
    "my_dist[5][1] = dist\n",
    "\n",
    "\n",
    "dist, cost, acc_cost, path = dtw(zamknij.T, stop.T, dist=lambda x, y: np.linalg.norm(x - y, ord=1))\n",
    "my_dist[1][6] = dist\n",
    "my_dist[6][1] = dist\n",
    "\n",
    "\n",
    "dist, cost, acc_cost, path = dtw(zamknij.T, rozwin.T, dist=lambda x, y: np.linalg.norm(x - y, ord=1))\n",
    "my_dist[1][7] = dist\n",
    "my_dist[7][1] = dist\n",
    "\n",
    "dist, cost, acc_cost, path = dtw(zamknij.T, zaslon.T, dist=lambda x, y: np.linalg.norm(x - y, ord=1))\n",
    "my_dist[1][8] = dist\n",
    "my_dist[8][1] = dist\n",
    "\n",
    "\n",
    "dist, cost, acc_cost, path = dtw(goraco.T, zimno.T, dist=lambda x, y: np.linalg.norm(x - y, ord=1))\n",
    "my_dist[2][3] = dist\n",
    "my_dist[3][2] = dist\n",
    "\n",
    "\n",
    "dist, cost, acc_cost, path = dtw(goraco.T, ciemno.T, dist=lambda x, y: np.linalg.norm(x - y, ord=1))\n",
    "my_dist[2][4] = dist\n",
    "my_dist[4][2] = dist\n",
    "\n",
    "\n",
    "dist, cost, acc_cost, path = dtw(goraco.T, jasno.T, dist=lambda x, y: np.linalg.norm(x - y, ord=1))\n",
    "my_dist[2][5] = dist\n",
    "my_dist[5][2] = dist\n",
    "\n",
    "dist, cost, acc_cost, path = dtw(goraco.T, stop.T, dist=lambda x, y: np.linalg.norm(x - y, ord=1))\n",
    "my_dist[2][6] = dist\n",
    "my_dist[6][2] = dist\n",
    "\n",
    "\n",
    "dist, cost, acc_cost, path = dtw(goraco.T, rozwin.T, dist=lambda x, y: np.linalg.norm(x - y, ord=1))\n",
    "my_dist[2][7] = dist\n",
    "my_dist[7][2] = dist\n",
    "\n",
    "\n",
    "dist, cost, acc_cost, path = dtw(goraco.T, zaslon.T, dist=lambda x, y: np.linalg.norm(x - y, ord=1))\n",
    "my_dist[2][8] = dist\n",
    "my_dist[8][2] = dist\n",
    "\n",
    "\n",
    "\n",
    "\n",
    "dist, cost, acc_cost, path = dtw(zimno.T, ciemno.T, dist=lambda x, y: np.linalg.norm(x - y, ord=1))\n",
    "my_dist[3][4] = dist\n",
    "my_dist[4][3] = dist\n",
    "\n",
    "\n",
    "dist, cost, acc_cost, path = dtw(zimno.T, jasno.T, dist=lambda x, y: np.linalg.norm(x - y, ord=1))\n",
    "my_dist[3][5] = dist\n",
    "my_dist[5][3] = dist\n",
    "\n",
    "\n",
    "dist, cost, acc_cost, path = dtw(zimno.T, stop.T, dist=lambda x, y: np.linalg.norm(x - y, ord=1))\n",
    "my_dist[3][6] = dist\n",
    "my_dist[6][3] = dist\n",
    "\n",
    "dist, cost, acc_cost, path = dtw(zimno.T, rozwin.T, dist=lambda x, y: np.linalg.norm(x - y, ord=1))\n",
    "my_dist[3][7] = dist\n",
    "my_dist[7][3] = dist\n",
    "\n",
    "\n",
    "dist, cost, acc_cost, path = dtw(zimno.T, zaslon.T, dist=lambda x, y: np.linalg.norm(x - y, ord=1))\n",
    "my_dist[3][8] = dist\n",
    "my_dist[8][3] = dist\n",
    "\n",
    "\n",
    "\n",
    "\n",
    "dist, cost, acc_cost, path = dtw(ciemno.T, jasno.T, dist=lambda x, y: np.linalg.norm(x - y, ord=1))\n",
    "my_dist[4][5] = dist\n",
    "my_dist[5][4] = dist\n",
    "\n",
    "dist, cost, acc_cost, path = dtw(ciemno.T, stop.T, dist=lambda x, y: np.linalg.norm(x - y, ord=1))\n",
    "my_dist[4][6] = dist\n",
    "my_dist[6][4] = dist\n",
    "\n",
    "\n",
    "dist, cost, acc_cost, path = dtw(ciemno.T, rozwin.T, dist=lambda x, y: np.linalg.norm(x - y, ord=1))\n",
    "my_dist[4][7] = dist\n",
    "my_dist[7][4] = dist\n",
    "\n",
    "\n",
    "dist, cost, acc_cost, path = dtw(ciemno.T, zaslon.T, dist=lambda x, y: np.linalg.norm(x - y, ord=1))\n",
    "my_dist[4][8] = dist\n",
    "my_dist[8][4] = dist\n",
    "\n",
    "\n",
    "\n",
    "\n",
    "dist, cost, acc_cost, path = dtw(jasno.T, stop.T, dist=lambda x, y: np.linalg.norm(x - y, ord=1))\n",
    "my_dist[5][6] = dist\n",
    "my_dist[6][5] = dist\n",
    "\n",
    "\n",
    "dist, cost, acc_cost, path = dtw(jasno.T, rozwin.T, dist=lambda x, y: np.linalg.norm(x - y, ord=1))\n",
    "my_dist[5][7] = dist\n",
    "my_dist[7][5] = dist\n",
    "\n",
    "\n",
    "dist, cost, acc_cost, path = dtw(jasno.T, zaslon.T, dist=lambda x, y: np.linalg.norm(x - y, ord=1))\n",
    "my_dist[5][8] = dist\n",
    "my_dist[8][5] = dist\n",
    "\n",
    "\n",
    "\n",
    "dist, cost, acc_cost, path = dtw(stop.T, rozwin.T, dist=lambda x, y: np.linalg.norm(x - y, ord=1))\n",
    "my_dist[6][7] = dist\n",
    "my_dist[7][6] = dist\n",
    "\n",
    "\n",
    "dist, cost, acc_cost, path = dtw(stop.T, zaslon.T, dist=lambda x, y: np.linalg.norm(x - y, ord=1))\n",
    "my_dist[6][8] = dist\n",
    "my_dist[8][6] = dist\n",
    "\n",
    "\n",
    "dist, cost, acc_cost, path = dtw(rozwin.T, zaslon.T, dist=lambda x, y: np.linalg.norm(x - y, ord=1))\n",
    "my_dist[7][8] = dist\n",
    "my_dist[8][7] = dist\n",
    "\n",
    "\n",
    "plt.figure(figsize=(20,20), dpi= 80, facecolor='w', edgecolor='k')\n",
    "plt.imshow(my_dist, cmap='hot')\n",
    "plt.colorbar()\n",
    "plt.tick_params(axis = 'on', bottom='off', top='on', labelbottom='off', labeltop='on')\n",
    "plt.xticks(range(len(my_dist)), commands, rotation=90)\n",
    "plt.yticks(range(len(my_dist)), commands)\n",
    "plt.show()\n",
    "\n",
    "\n"
   ]
  }
 ],
 "metadata": {
  "kernelspec": {
   "display_name": "Python 3",
   "language": "python",
   "name": "python3"
  },
  "language_info": {
   "codemirror_mode": {
    "name": "ipython",
    "version": 3
   },
   "file_extension": ".py",
   "mimetype": "text/x-python",
   "name": "python",
   "nbconvert_exporter": "python",
   "pygments_lexer": "ipython3",
   "version": "3.7.1"
  }
 },
 "nbformat": 4,
 "nbformat_minor": 2
}
