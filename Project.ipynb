{
 "cells": [
  {
   "cell_type": "markdown",
   "metadata": {},
   "source": [
    "# Rozpoznawanie mowy - projekt"
   ]
  },
  {
   "cell_type": "markdown",
   "metadata": {},
   "source": [
    "Przed uruchomieniem projektu sprawdź, czy masz zainstalowane wszystkie potrzebne biblioteki."
   ]
  },
  {
   "cell_type": "code",
   "execution_count": 201,
   "metadata": {},
   "outputs": [],
   "source": [
    "from scipy.io import wavfile\n",
    "from matplotlib import pyplot as plt\n",
    "import numpy as np\n",
    "import sys\n",
    "import wave\n",
    "import scipy.signal\n",
    "import os\n",
    "import librosa.util\n",
    "from dtw import dtw\n",
    "from numpy.linalg import norm\n",
    "import librosa.display"
   ]
  },
  {
   "cell_type": "markdown",
   "metadata": {},
   "source": [
    "1. Funkcja do wczytywania plików z sygnałami (load_voice_signal()). Funkcja normalizuje sygnał poprzez podzielenie sygnału przez moduł sygnału."
   ]
  },
  {
   "cell_type": "code",
   "execution_count": 160,
   "metadata": {},
   "outputs": [],
   "source": [
    "def load_voice_signal(filename):\n",
    "    samplerate, data = wavfile.read('commends/' + filename+'.wav')\n",
    "    words = data / np.amax(np.absolute(data))\n",
    "    words = words[::,0]\n",
    "    return words"
   ]
  },
  {
   "cell_type": "markdown",
   "metadata": {},
   "source": [
    "2. Funkcja, która wyciąga cechy sygnału (extract_features())."
   ]
  },
  {
   "cell_type": "code",
   "execution_count": 161,
   "metadata": {},
   "outputs": [],
   "source": [
    "def extract_features(word):\n",
    "    my_mfcc = np.mean(librosa.feature.mfcc(y = word, sr = 44100, n_mfcc = 40).T, axis = 0)\n",
    "    my_mfcc = np.array([my_mfcc])\n",
    "    return my_mfcc"
   ]
  },
  {
   "cell_type": "markdown",
   "metadata": {},
   "source": [
    "3. Podział na zbiór uczący (train_words, train_commands) - 108 próbek (80 %) oraz zbiór testujący (test_words, test_command) - 27 próbek (20 %). "
   ]
  },
  {
   "cell_type": "code",
   "execution_count": 172,
   "metadata": {},
   "outputs": [],
   "source": [
    "commands = ['otwórz', 'zamknij', 'gorąco', 'zimno', 'ciemno', 'jasno', 'stop', 'rozwiń', 'zasłoń']\n",
    "\n",
    "train_words = []\n",
    "train_commands = []\n",
    "test_words = []\n",
    "test_commands = []\n",
    "\n",
    "# zbiór uczący\n",
    "for k in range(0,9):\n",
    "    for j in range(1, 5):\n",
    "        a = j + k*5\n",
    "\n",
    "        path = 'G' + str(a)\n",
    "        train_words.append(load_voice_signal(path))\n",
    "        train_commands.append(commands[k])\n",
    "\n",
    "        path = 'J' + str(a)\n",
    "        train_words.append(load_voice_signal(path))\n",
    "        train_commands.append(commands[k])\n",
    "\n",
    "        path = 'O' + str(a)\n",
    "        train_words.append(load_voice_signal(path))\n",
    "        train_commands.append(commands[k])\n",
    "\n",
    "#zbiór testujący\n",
    "for j in range(0,9):\n",
    "    a = 5*j + 5\n",
    "    path = 'G' + str(a)\n",
    "    test_words.append(load_voice_signal(path))\n",
    "    test_commands.append(commands[j])\n",
    "\n",
    "    path = 'J' + str(a)\n",
    "    test_words.append(load_voice_signal(path))\n",
    "    test_commands.append(commands[j])\n",
    "\n",
    "    path = 'O' + str(a)\n",
    "    test_words.append(load_voice_signal(path))\n",
    "    test_commands.append(commands[j])\n",
    "\n"
   ]
  },
  {
   "cell_type": "markdown",
   "metadata": {},
   "source": [
    "4. Wyciągnięcie cech sygnałów"
   ]
  },
  {
   "cell_type": "code",
   "execution_count": 184,
   "metadata": {},
   "outputs": [],
   "source": [
    "#zbiór uczący\n",
    "train_features = []\n",
    "for i in range(0, len(train_words)):\n",
    "    feature = Extract_features(train_words[i])\n",
    "    train_features.append(feature)\n",
    "    \n",
    "train_features = np.squeeze(train_features)\n",
    "\n",
    "#zbiór testujący\n",
    "test_features = []\n",
    "for i in range(0, len(test_words)):\n",
    "    feature = Extract_features(test_words[i])\n",
    "    test_features.append(feature)\n",
    "\n",
    "test_features = np.squeeze(test_features)\n"
   ]
  },
  {
   "cell_type": "markdown",
   "metadata": {},
   "source": [
    "5. Porównanie sygnałów używając DWT"
   ]
  },
  {
   "cell_type": "code",
   "execution_count": null,
   "metadata": {},
   "outputs": [],
   "source": []
  },
  {
   "cell_type": "code",
   "execution_count": null,
   "metadata": {},
   "outputs": [],
   "source": []
  }
 ],
 "metadata": {
  "kernelspec": {
   "display_name": "Python 3",
   "language": "python",
   "name": "python3"
  },
  "language_info": {
   "codemirror_mode": {
    "name": "ipython",
    "version": 3
   },
   "file_extension": ".py",
   "mimetype": "text/x-python",
   "name": "python",
   "nbconvert_exporter": "python",
   "pygments_lexer": "ipython3",
   "version": "3.7.1"
  }
 },
 "nbformat": 4,
 "nbformat_minor": 2
}
