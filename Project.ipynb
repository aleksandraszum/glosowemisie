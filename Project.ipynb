{
 "cells": [
  {
   "cell_type": "markdown",
   "metadata": {},
   "source": [
    "# Rozpoznawanie mowy - projekt"
   ]
  },
  {
   "cell_type": "code",
   "execution_count": null,
   "metadata": {},
   "outputs": [],
   "source": []
  },
  {
   "cell_type": "raw",
   "metadata": {},
   "source": [
    "Przed uruchomieniem projektu sprawdź, czy masz zainstalowane wszystkie potrzebne biblioteki."
   ]
  },
  {
   "cell_type": "code",
   "execution_count": 1,
   "metadata": {},
   "outputs": [],
   "source": [
    "from scipy.io import wavfile\n",
    "from matplotlib import pyplot as plt\n",
    "import numpy as np\n",
    "import sys\n",
    "import wave\n",
    "import scipy.signal\n",
    "import os\n",
    "import librosa\n",
    "import librosa.util\n",
    "from dtw import dtw\n",
    "from numpy.linalg import norm\n",
    "import librosa.display"
   ]
  },
  {
   "cell_type": "markdown",
   "metadata": {},
   "source": [
    "### 1. Funkcja do wczytywania plików z sygnałami (load_voice_signal()). Funkcja normalizuje sygnał poprzez podzielenie sygnału przez moduł sygnału."
   ]
  },
  {
   "cell_type": "code",
   "execution_count": 42,
   "metadata": {},
   "outputs": [],
   "source": [
    "def load_voice_signal(filename):\n",
    "    samplerate, data = wavfile.read('commends/' + filename + '.wav')\n",
    "    words = data / np.amax(np.absolute(data))\n",
    "    words = words[::,0]\n",
    "    timestamps = np.array([i[0] / samplerate for i in np.ndindex(words.shape)])\n",
    "    return words, timestamps"
   ]
  },
  {
   "cell_type": "markdown",
   "metadata": {},
   "source": [
    "#### Przykład wizualizacji fali dźwiękowej"
   ]
  },
  {
   "cell_type": "code",
   "execution_count": 207,
   "metadata": {},
   "outputs": [
    {
     "data": {
      "image/png": "[encoded data removed]",
      "text/plain": [
       "<Figure size 800x400 with 1 Axes>"
      ]
     },
     "metadata": {},
     "output_type": "display_data"
    }
   ],
   "source": [
    "words, timestamps = load_voice_signal('G11')\n",
    "\n",
    "#y = words[32000:70000]\n",
    "#x = timestamps[32000:70000]\n",
    "y = words\n",
    "x = timestamps\n",
    "plt.figure(figsize=(10, 5), dpi= 80, facecolor='w', edgecolor='k')\n",
    "plt.title('Signal Wave')\n",
    "\n",
    "plt.plot(x,y)\n",
    "\n",
    "plt.show()"
   ]
  },
  {
   "cell_type": "markdown",
   "metadata": {},
   "source": [
    "### 2. Funkcja, która wyciąga cechy sygnału (extract_features())."
   ]
  },
  {
   "cell_type": "code",
   "execution_count": 90,
   "metadata": {},
   "outputs": [],
   "source": [
    "def extract_features(word):\n",
    "    my_mfcc = np.mean(librosa.feature.mfcc(y = word, sr = 44100, n_mfcc = 40).T, axis = 0)\n",
    "    my_mfcc = np.array([my_mfcc])\n",
    "    return my_mfcc"
   ]
  },
  {
   "cell_type": "markdown",
   "metadata": {},
   "source": [
    "### 3. Podział na zbiór uczący (train_words, train_commands) - 108 próbek (80 %) oraz zbiór testujący (test_words, test_command) - 27 próbek (20 %). -> do usunięcia?"
   ]
  },
  {
   "cell_type": "code",
   "execution_count": 148,
   "metadata": {},
   "outputs": [
    {
     "name": "stdout",
     "output_type": "stream",
     "text": [
      "5\n",
      "10\n",
      "15\n",
      "20\n",
      "25\n",
      "30\n",
      "35\n",
      "40\n",
      "45\n"
     ]
    }
   ],
   "source": [
    "commands = ['otwórz', 'zamknij', 'gorąco', 'zimno', 'ciemno', 'jasno', 'stop', 'rozwiń', 'zasłoń']\n",
    "\n",
    "train_words = []\n",
    "train_commands = []\n",
    "test_words = []\n",
    "test_commands = []\n",
    "\n",
    "# zbiór uczący\n",
    "for k in range(0,9):\n",
    "    for j in range(1, 5):\n",
    "        a = j + k*5\n",
    "        \n",
    "\n",
    "        path = 'G' + str(a)\n",
    "        train_words.append(load_voice_signal(path)[0])\n",
    "        train_commands.append(commands[k])\n",
    "\n",
    "        path = 'J' + str(a)\n",
    "        train_words.append(load_voice_signal(path)[0])\n",
    "        train_commands.append(commands[k])\n",
    "\n",
    "        path = 'O' + str(a)\n",
    "        train_words.append(load_voice_signal(path)[0])\n",
    "        train_commands.append(commands[k])\n",
    "\n",
    "#zbiór testujący\n",
    "for j in range(0,9):\n",
    "    a = 5*j + 5\n",
    "\n",
    "    path = 'G' + str(a)\n",
    "    test_words.append(load_voice_signal(path)[0])\n",
    "    test_commands.append(commands[j])\n",
    "\n",
    "    path = 'J' + str(a)\n",
    "    test_words.append(load_voice_signal(path)[0])\n",
    "    test_commands.append(commands[j])\n",
    "\n",
    "    path = 'O' + str(a)\n",
    "    test_words.append(load_voice_signal(path)[0])\n",
    "    test_commands.append(commands[j])\n",
    "\n"
   ]
  },
  {
   "cell_type": "markdown",
   "metadata": {},
   "source": [
    "# Ekstrakcja cech i podział na zbiór uczący i testowy w stosunku 4:1\n",
    "### podział przeprowadzony w sposób losowy"
   ]
  },
  {
   "cell_type": "code",
   "execution_count": 178,
   "metadata": {},
   "outputs": [],
   "source": [
    "from sklearn.model_selection import train_test_split\n",
    "\n",
    "commands = ['otwórz', 'zamknij', 'gorąco', 'zimno', 'ciemno', 'jasno', 'stop', 'rozwiń', 'zasłoń']\n",
    "\n",
    "file_ids, commands = zip(*[(person + str(cmd_idx * 5 + n_record + 1), cmd)\n",
    "                      for cmd_idx, cmd in enumerate(commands)\n",
    "                      for person in 'OJG'\n",
    "                      for n_record in range(5)])\n",
    "\n",
    "words = [load_voice_signal(file_id)[0] for file_id in file_ids]\n",
    "\n",
    "features = np.squeeze([extract_features(word) for word in words])\n",
    "\n",
    "(features_train, features_test,\n",
    "words_train, words_test,\n",
    "commands_train, commands_test) = train_test_split(features, words, commands, test_size=0.2)"
   ]
  },
  {
   "cell_type": "markdown",
   "metadata": {},
   "source": [
    "#### Trzeba znaleźć jakiś algorytm uczenia, przykładowy algorytm: https://blog.manash.me/building-a-dead-simple-word-recognition-engine-using-convnet-in-keras-25e72c19c12b\n",
    "\n",
    "Uważam, że różnice pomiędzy tymi samymi słowami sa na tyle duże, że nie bedziemy w stanie nauczyć sieci => można zapisać to we wnioskach"
   ]
  },
  {
   "cell_type": "markdown",
   "metadata": {},
   "source": [
    "### 4. Wyciągnięcie cech sygnałów  -> do usunięcia?"
   ]
  },
  {
   "cell_type": "code",
   "execution_count": 81,
   "metadata": {},
   "outputs": [],
   "source": [
    "#zbiór uczący\n",
    "train_features = []\n",
    "for i in range(0, len(train_words)):\n",
    "    feature = extract_features(train_words[i])\n",
    "    train_features.append(feature)\n",
    "    \n",
    "train_features = np.squeeze(train_features)\n",
    "\n",
    "#zbiór testujący\n",
    "test_features = []\n",
    "for i in range(0, len(test_words)):\n",
    "    feature = extract_features(test_words[i])\n",
    "    test_features.append(feature)\n",
    "\n",
    "test_features = np.squeeze(test_features)\n"
   ]
  },
  {
   "cell_type": "markdown",
   "metadata": {},
   "source": [
    "5. Porównanie sygnałów używając DWT"
   ]
  },
  {
   "cell_type": "markdown",
   "metadata": {},
   "source": []
  },
  {
   "cell_type": "code",
   "execution_count": 192,
   "metadata": {},
   "outputs": [
    {
     "name": "stdout",
     "output_type": "stream",
     "text": [
      "Różnica pomiędzy tymi różnymi komendami 189.70612182715178\n"
     ]
    },
    {
     "data": {
      "image/png": "[encoded data removed]",
      "text/plain": [
       "<Figure size 432x288 with 2 Axes>"
      ]
     },
     "metadata": {},
     "output_type": "display_data"
    }
   ],
   "source": [
    "fs = 44100\n",
    "same_words1 = [word for word, cmd in zip(words_test, commands_test) if cmd == 'zamknij']\n",
    "same_words2 = [word for word, cmd in zip(words_test, commands_test) if cmd == 'stop']\n",
    "word_1 = librosa.feature.mfcc(same_words1[1], fs, n_mfcc = 13)\n",
    "plt.subplot(1, 2, 1)\n",
    "librosa.display.specshow(word_1)\n",
    "word_2 = librosa.feature.mfcc(same_words1[2], fs, n_mfcc = 13)\n",
    "plt.subplot(1, 2, 2)\n",
    "\n",
    "librosa.display.specshow(word_2)\n",
    "\n",
    "dist, cost, acc_cost, path = dtw(word_2.T, word_1.T, dist=lambda x, y: np.linalg.norm(x - y, ord=1))\n",
    "print('Różnica pomiędzy tymi różnymi komendami', dist)"
   ]
  },
  {
   "cell_type": "code",
   "execution_count": 174,
   "metadata": {},
   "outputs": [
    {
     "data": {
      "image/png": "[encoded data removed]",
      "text/plain": [
       "<Figure size 432x288 with 1 Axes>"
      ]
     },
     "metadata": {
      "needs_background": "light"
     },
     "output_type": "display_data"
    }
   ],
   "source": [
    "plt.imshow(acc_cost.T, origin='lower', cmap='gray', interpolation='nearest')\n",
    "plt.plot(path[0], path[1], 'w')\n",
    "plt.show()"
   ]
  },
  {
   "cell_type": "code",
   "execution_count": null,
   "metadata": {},
   "outputs": [],
   "source": []
  }
 ],
 "metadata": {
  "kernelspec": {
   "display_name": "Python 3",
   "language": "python",
   "name": "python3"
  },
  "language_info": {
   "codemirror_mode": {
    "name": "ipython",
    "version": 3
   },
   "file_extension": ".py",
   "mimetype": "text/x-python",
   "name": "python",
   "nbconvert_exporter": "python",
   "pygments_lexer": "ipython3",
   "version": "3.7.3"
  }
 },
 "nbformat": 4,
 "nbformat_minor": 2
}
